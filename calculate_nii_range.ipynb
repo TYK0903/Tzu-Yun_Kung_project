{
 "cells": [
  {
   "cell_type": "code",
   "execution_count": 2,
   "id": "5a22c7d5",
   "metadata": {},
   "outputs": [
    {
     "name": "stdout",
     "output_type": "stream",
     "text": [
      "Requirement already satisfied: nibabel in /opt/anaconda3/envs/neural_network/lib/python3.13/site-packages (5.3.2)\n",
      "Requirement already satisfied: numpy in /opt/anaconda3/envs/neural_network/lib/python3.13/site-packages (1.26.4)\n",
      "Requirement already satisfied: pandas in /opt/anaconda3/envs/neural_network/lib/python3.13/site-packages (2.2.2)\n",
      "Collecting tqdm\n",
      "  Downloading tqdm-4.67.1-py3-none-any.whl.metadata (57 kB)\n",
      "Requirement already satisfied: packaging>=20 in /opt/anaconda3/envs/neural_network/lib/python3.13/site-packages (from nibabel) (24.2)\n",
      "Requirement already satisfied: python-dateutil>=2.8.2 in /opt/anaconda3/envs/neural_network/lib/python3.13/site-packages (from pandas) (2.9.0.post0)\n",
      "Requirement already satisfied: pytz>=2020.1 in /opt/anaconda3/envs/neural_network/lib/python3.13/site-packages (from pandas) (2025.2)\n",
      "Requirement already satisfied: tzdata>=2022.7 in /opt/anaconda3/envs/neural_network/lib/python3.13/site-packages (from pandas) (2025.2)\n",
      "Requirement already satisfied: six>=1.5 in /opt/anaconda3/envs/neural_network/lib/python3.13/site-packages (from python-dateutil>=2.8.2->pandas) (1.17.0)\n",
      "Downloading tqdm-4.67.1-py3-none-any.whl (78 kB)\n",
      "Installing collected packages: tqdm\n",
      "Successfully installed tqdm-4.67.1\n"
     ]
    }
   ],
   "source": [
    "!pip install nibabel numpy pandas tqdm"
   ]
  },
  {
   "cell_type": "code",
   "execution_count": 3,
   "id": "b4c02371",
   "metadata": {},
   "outputs": [
    {
     "name": "stderr",
     "output_type": "stream",
     "text": [
      "計算統計中: 100%|██████████| 130/130 [00:00<00:00, 370.16it/s]"
     ]
    },
    {
     "name": "stdout",
     "output_type": "stream",
     "text": [
      "                       File         Min         Max       Mean        Std  \\\n",
      "0    group_avg_con_0001.nii -126.320541  160.983505  -3.074138  15.201924   \n",
      "1    group_avg_con_0002.nii  -75.709137   81.843231  -0.428828  11.197278   \n",
      "2    group_avg_con_0003.nii   -1.911565   10.313158   1.264759   1.335028   \n",
      "3    group_avg_con_0004.nii   -7.432490    7.094760   0.164478   1.057425   \n",
      "4    group_avg_con_0005.nii   -6.665852    4.939939   0.046726   1.050410   \n",
      "..                      ...         ...         ...        ...        ...   \n",
      "125  group_avg_con_0126.nii -120.196457  343.890778   3.254651  24.700736   \n",
      "126  group_avg_con_0127.nii -126.461098   99.387901   3.725861  21.084842   \n",
      "127  group_avg_con_0128.nii -205.958130  106.322838  12.270223  19.854831   \n",
      "128  group_avg_con_0129.nii  -61.457977  134.290939  13.177217  20.099246   \n",
      "129  group_avg_con_0130.nii  -80.064796  168.045227  13.833160  20.697972   \n",
      "\n",
      "     99th Percentile  \n",
      "0          49.556226  \n",
      "1          26.925643  \n",
      "2           6.667319  \n",
      "3           4.034706  \n",
      "4           3.489736  \n",
      "..               ...  \n",
      "125        82.235364  \n",
      "126        52.364852  \n",
      "127        71.061350  \n",
      "128        88.223721  \n",
      "129        91.908687  \n",
      "\n",
      "[130 rows x 6 columns]\n",
      "\n",
      "✅ 已將結果存成 CSV：/Users/kungtzuyun/Lab/ACTI/Code/trial_analysis/behavior_codes/group_avg_maps/nifti_intensity_stats.csv\n"
     ]
    },
    {
     "name": "stderr",
     "output_type": "stream",
     "text": [
      "\n"
     ]
    }
   ],
   "source": [
    "# stats_nifti_batch.py\n",
    "import glob\n",
    "import os\n",
    "from pathlib import Path\n",
    "\n",
    "import nibabel as nib\n",
    "import numpy as np\n",
    "import pandas as pd\n",
    "from tqdm import tqdm   # 進度條，可選\n",
    "\n",
    "def compute_stats(nifti_path: str) -> dict:\n",
    "    \"\"\"讀取單一 NIfTI 檔並回傳統計量。\"\"\"\n",
    "    img = nib.load(nifti_path)\n",
    "    data = img.get_fdata()\n",
    "    data = data[~np.isnan(data)]         # 排除 NaN\n",
    "\n",
    "    return {\n",
    "        \"File\": Path(nifti_path).name,\n",
    "        \"Min\": float(np.min(data)),\n",
    "        \"Max\": float(np.max(data)),\n",
    "        \"Mean\": float(np.mean(data)),\n",
    "        \"Std\": float(np.std(data, ddof=0)),\n",
    "        \"99th Percentile\": float(np.percentile(data, 99)),\n",
    "    }\n",
    "\n",
    "def main():\n",
    "    # ===== 1. 取得檔案清單 =====\n",
    "    # 方法 A：資料夾遞迴搜尋\n",
    "    nifti_dir = \"/Users/kungtzuyun/Lab/ACTI/Code/trial_analysis/behavior_codes/group_avg_maps\"   # ← 修改路徑\n",
    "    pattern = \"**/*.nii\"                       # 或 \"**/*.nii.gz\"\n",
    "    nii_files = sorted(glob.glob(os.path.join(nifti_dir, pattern), recursive=True))\n",
    "\n",
    "    # 方法 B：若已有明確檔案清單\n",
    "    # nii_files = [\"/path/f1.nii\", \"/path/f2.nii\", ...]   # 130 張\n",
    "\n",
    "    if len(nii_files) == 0:\n",
    "        raise FileNotFoundError(\"找不到任何 .nii 檔，請檢查路徑或副檔名！\")\n",
    "\n",
    "    # ===== 2. 批次計算 =====\n",
    "    stats = []\n",
    "    for f in tqdm(nii_files, desc=\"計算統計中\"):\n",
    "        stats.append(compute_stats(f))\n",
    "\n",
    "    # ===== 3. 匯出或顯示 =====\n",
    "    df = pd.DataFrame(stats)\n",
    "    print(df)                  # 直接印出\n",
    "    out_csv = Path(nifti_dir).joinpath(\"nifti_intensity_stats.csv\")\n",
    "    df.to_csv(out_csv, index=False)\n",
    "    print(f\"\\n✅ 已將結果存成 CSV：{out_csv}\")\n",
    "\n",
    "if __name__ == \"__main__\":\n",
    "    main()"
   ]
  }
 ],
 "metadata": {
  "kernelspec": {
   "display_name": "neural_network",
   "language": "python",
   "name": "python3"
  },
  "language_info": {
   "codemirror_mode": {
    "name": "ipython",
    "version": 3
   },
   "file_extension": ".py",
   "mimetype": "text/x-python",
   "name": "python",
   "nbconvert_exporter": "python",
   "pygments_lexer": "ipython3",
   "version": "3.13.2"
  }
 },
 "nbformat": 4,
 "nbformat_minor": 5
}
